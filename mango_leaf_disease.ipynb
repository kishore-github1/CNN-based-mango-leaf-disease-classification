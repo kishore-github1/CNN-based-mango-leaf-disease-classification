{
  "cells": [
    {
      "cell_type": "markdown",
      "metadata": {
        "id": "view-in-github",
        "colab_type": "text"
      },
      "source": [
        "<a href=\"https://colab.research.google.com/github/kishore-github1/CNN-based-mango-leaf-disease-classification/blob/main/mango_leaf_disease.ipynb\" target=\"_parent\"><img src=\"https://colab.research.google.com/assets/colab-badge.svg\" alt=\"Open In Colab\"/></a>"
      ]
    },
    {
      "cell_type": "code",
      "execution_count": null,
      "id": "3ca5960d",
      "metadata": {
        "id": "3ca5960d"
      },
      "outputs": [],
      "source": [
        "import tensorflow as tf\n",
        "from tensorflow.keras import models,layers\n",
        "import matplotlib.pyplot as plt"
      ]
    },
    {
      "cell_type": "code",
      "source": [
        "from google.colab import drive\n",
        "drive.mount('/content/gdrive')"
      ],
      "metadata": {
        "colab": {
          "base_uri": "https://localhost:8080/"
        },
        "id": "ZA6PXcFuLjm9",
        "outputId": "4f12a85b-026d-4765-8beb-b67978d20911"
      },
      "id": "ZA6PXcFuLjm9",
      "execution_count": null,
      "outputs": [
        {
          "output_type": "stream",
          "name": "stdout",
          "text": [
            "Mounted at /content/gdrive\n"
          ]
        }
      ]
    },
    {
      "cell_type": "code",
      "source": [
        "directory_root = \"/content/gdrive/MyDrive/Dataset\""
      ],
      "metadata": {
        "id": "mD6O7wbpL1cc"
      },
      "id": "mD6O7wbpL1cc",
      "execution_count": null,
      "outputs": []
    },
    {
      "cell_type": "code",
      "execution_count": null,
      "id": "d09e5ee6",
      "metadata": {
        "id": "d09e5ee6"
      },
      "outputs": [],
      "source": [
        "IMAGE_SIZE = 240\n",
        "BATCH_SIZE = 32\n",
        "CHANNELS = 3\n",
        "EPOCHS = 25"
      ]
    },
    {
      "cell_type": "code",
      "execution_count": null,
      "id": "6b03b495",
      "metadata": {
        "colab": {
          "base_uri": "https://localhost:8080/"
        },
        "id": "6b03b495",
        "outputId": "3419da2a-8093-4184-8f98-9a95ddbb5a1f"
      },
      "outputs": [
        {
          "output_type": "stream",
          "name": "stdout",
          "text": [
            "Found 4006 files belonging to 8 classes.\n"
          ]
        }
      ],
      "source": [
        "dataset = tf.keras.preprocessing.image_dataset_from_directory(\n",
        "    directory = directory_root,\n",
        "    shuffle = True,\n",
        "    image_size = (IMAGE_SIZE,IMAGE_SIZE),\n",
        "    batch_size = BATCH_SIZE\n",
        ")"
      ]
    },
    {
      "cell_type": "code",
      "execution_count": null,
      "id": "15896c4a",
      "metadata": {
        "colab": {
          "base_uri": "https://localhost:8080/"
        },
        "id": "15896c4a",
        "outputId": "ad330eaf-994b-41f6-c158-eca5c7b0e958"
      },
      "outputs": [
        {
          "output_type": "execute_result",
          "data": {
            "text/plain": [
              "['Anthracnose',\n",
              " 'Bacterial Canker',\n",
              " 'Cutting Weevil',\n",
              " 'Die Back',\n",
              " 'Gall Midge',\n",
              " 'Healthy',\n",
              " 'Powdery Mildew',\n",
              " 'Sooty Mould']"
            ]
          },
          "metadata": {},
          "execution_count": 6
        }
      ],
      "source": [
        "classes = dataset.class_names\n",
        "classes"
      ]
    },
    {
      "cell_type": "code",
      "execution_count": null,
      "id": "a479a10e",
      "metadata": {
        "colab": {
          "base_uri": "https://localhost:8080/"
        },
        "id": "a479a10e",
        "outputId": "557414c9-eb6b-4318-a515-eea62f9a1413"
      },
      "outputs": [
        {
          "output_type": "execute_result",
          "data": {
            "text/plain": [
              "126"
            ]
          },
          "metadata": {},
          "execution_count": 7
        }
      ],
      "source": [
        "len(dataset)"
      ]
    },
    {
      "cell_type": "code",
      "execution_count": null,
      "id": "6b368a45",
      "metadata": {
        "id": "6b368a45"
      },
      "outputs": [],
      "source": [
        "def get_dataset_partitions_tf(ds,train_split=0.8,val_split=0.1,test_split=0.1,shuffle=True,shuffle_size=10000):\n",
        "\n",
        "    ds_size = len(ds)\n",
        "\n",
        "    if shuffle:\n",
        "        ds = ds.shuffle(shuffle_size,seed = 12)\n",
        "\n",
        "    train_size = int(train_split * ds_size)\n",
        "    val_size = int(val_split *ds_size)\n",
        "\n",
        "    train_ds = ds.take(train_size)\n",
        "\n",
        "    val_ds = ds.skip(train_size).take(val_size)\n",
        "    test_ds= ds.skip(train_size).take(val_size)\n",
        "\n",
        "\n",
        "    return train_ds,val_ds,test_ds"
      ]
    },
    {
      "cell_type": "code",
      "execution_count": null,
      "id": "5313443f",
      "metadata": {
        "id": "5313443f"
      },
      "outputs": [],
      "source": [
        "train_ds, val_ds, test_ds = get_dataset_partitions_tf(dataset)"
      ]
    },
    {
      "cell_type": "code",
      "execution_count": null,
      "id": "d7511d9c",
      "metadata": {
        "colab": {
          "base_uri": "https://localhost:8080/"
        },
        "id": "d7511d9c",
        "outputId": "785689a2-39af-4301-fe99-84460266fda4"
      },
      "outputs": [
        {
          "output_type": "execute_result",
          "data": {
            "text/plain": [
              "100"
            ]
          },
          "metadata": {},
          "execution_count": 10
        }
      ],
      "source": [
        "len(train_ds)"
      ]
    },
    {
      "cell_type": "code",
      "execution_count": null,
      "id": "17a3511a",
      "metadata": {
        "id": "17a3511a"
      },
      "outputs": [],
      "source": [
        "resize_and_rescale = tf.keras.Sequential([\n",
        "    layers.Resizing(IMAGE_SIZE,IMAGE_SIZE),\n",
        "    layers.Rescaling(1.0/255)\n",
        "])"
      ]
    },
    {
      "cell_type": "code",
      "execution_count": null,
      "id": "4ce53813",
      "metadata": {
        "id": "4ce53813"
      },
      "outputs": [],
      "source": [
        "data_augmentation = tf.keras.Sequential([\n",
        "    layers.RandomFlip(\"horizontal_and_vertical\"),\n",
        "    layers.RandomRotation(0.2)\n",
        "])"
      ]
    },
    {
      "cell_type": "code",
      "execution_count": null,
      "id": "bc5272d1",
      "metadata": {
        "id": "bc5272d1"
      },
      "outputs": [],
      "source": [
        "input_shape = (BATCH_SIZE,IMAGE_SIZE,IMAGE_SIZE,CHANNELS)\n",
        "n_classes = 8\n",
        "\n",
        "model = models.Sequential([\n",
        "    resize_and_rescale,\n",
        "    data_augmentation,\n",
        "    layers.Conv2D(16, 3, padding='same',activation='relu'),\n",
        "    layers. MaxPooling2D(),\n",
        "    layers.Conv2D (32, 3, padding='same', activation='relu'),\n",
        "    layers. MaxPooling2D(),\n",
        "    layers. Dropout (0.25),\n",
        "    layers.Conv2D(64, 3, padding='same', activation='relu'),\n",
        "    layers. MaxPooling2D(),\n",
        "    layers. Dropout (0.25),\n",
        "    layers.Conv2D (128, 3, padding='same', activation='relu'),\n",
        "    layers. MaxPooling2D(),\n",
        "    layers. Dropout (0.25),\n",
        "    layers. Flatten(),\n",
        "    layers. Dense(256, activation='relu'),\n",
        "    layers. Dense(8, activation='softmax')\n",
        "])\n",
        "\n",
        "model.build(input_shape = input_shape)"
      ]
    },
    {
      "cell_type": "code",
      "execution_count": null,
      "id": "e3eac55d",
      "metadata": {
        "colab": {
          "base_uri": "https://localhost:8080/"
        },
        "id": "e3eac55d",
        "outputId": "d35a4604-35c2-4583-8c9e-d70fed82c333"
      },
      "outputs": [
        {
          "output_type": "stream",
          "name": "stdout",
          "text": [
            "Model: \"sequential_2\"\n",
            "_________________________________________________________________\n",
            " Layer (type)                Output Shape              Param #   \n",
            "=================================================================\n",
            " sequential (Sequential)     (32, 240, 240, 3)         0         \n",
            "                                                                 \n",
            " sequential_1 (Sequential)   (32, 240, 240, 3)         0         \n",
            "                                                                 \n",
            " conv2d (Conv2D)             (32, 240, 240, 16)        448       \n",
            "                                                                 \n",
            " max_pooling2d (MaxPooling2  (32, 120, 120, 16)        0         \n",
            " D)                                                              \n",
            "                                                                 \n",
            " conv2d_1 (Conv2D)           (32, 120, 120, 32)        4640      \n",
            "                                                                 \n",
            " max_pooling2d_1 (MaxPoolin  (32, 60, 60, 32)          0         \n",
            " g2D)                                                            \n",
            "                                                                 \n",
            " dropout (Dropout)           (32, 60, 60, 32)          0         \n",
            "                                                                 \n",
            " conv2d_2 (Conv2D)           (32, 60, 60, 64)          18496     \n",
            "                                                                 \n",
            " max_pooling2d_2 (MaxPoolin  (32, 30, 30, 64)          0         \n",
            " g2D)                                                            \n",
            "                                                                 \n",
            " dropout_1 (Dropout)         (32, 30, 30, 64)          0         \n",
            "                                                                 \n",
            " conv2d_3 (Conv2D)           (32, 30, 30, 128)         73856     \n",
            "                                                                 \n",
            " max_pooling2d_3 (MaxPoolin  (32, 15, 15, 128)         0         \n",
            " g2D)                                                            \n",
            "                                                                 \n",
            " dropout_2 (Dropout)         (32, 15, 15, 128)         0         \n",
            "                                                                 \n",
            " flatten (Flatten)           (32, 28800)               0         \n",
            "                                                                 \n",
            " dense (Dense)               (32, 256)                 7373056   \n",
            "                                                                 \n",
            " dense_1 (Dense)             (32, 8)                   2056      \n",
            "                                                                 \n",
            "=================================================================\n",
            "Total params: 7472552 (28.51 MB)\n",
            "Trainable params: 7472552 (28.51 MB)\n",
            "Non-trainable params: 0 (0.00 Byte)\n",
            "_________________________________________________________________\n"
          ]
        }
      ],
      "source": [
        "model.summary()"
      ]
    },
    {
      "cell_type": "code",
      "execution_count": null,
      "id": "31782839",
      "metadata": {
        "id": "31782839"
      },
      "outputs": [],
      "source": [
        "model.compile(\n",
        "    optimizer = 'adam',\n",
        "    loss = tf.keras.losses.SparseCategoricalCrossentropy(from_logits=False),\n",
        "    metrics = ['accuracy']\n",
        ")"
      ]
    },
    {
      "cell_type": "code",
      "execution_count": null,
      "id": "5578f219",
      "metadata": {
        "colab": {
          "base_uri": "https://localhost:8080/"
        },
        "id": "5578f219",
        "outputId": "3e84c369-6d2c-44df-8f0a-42378e3ca09d"
      },
      "outputs": [
        {
          "output_type": "stream",
          "name": "stdout",
          "text": [
            "Epoch 1/25\n",
            "100/100 [==============================] - 527s 184ms/step - loss: 2.0768 - accuracy: 0.2131 - val_loss: 1.6450 - val_accuracy: 0.4740\n",
            "Epoch 2/25\n",
            "100/100 [==============================] - 29s 179ms/step - loss: 1.4855 - accuracy: 0.4566 - val_loss: 1.3009 - val_accuracy: 0.5078\n",
            "Epoch 3/25\n",
            "100/100 [==============================] - 30s 186ms/step - loss: 1.1495 - accuracy: 0.5419 - val_loss: 1.4628 - val_accuracy: 0.4453\n",
            "Epoch 4/25\n",
            "100/100 [==============================] - 30s 178ms/step - loss: 1.0070 - accuracy: 0.5986 - val_loss: 0.8339 - val_accuracy: 0.7214\n",
            "Epoch 5/25\n",
            "100/100 [==============================] - 38s 265ms/step - loss: 0.6751 - accuracy: 0.7391 - val_loss: 0.5807 - val_accuracy: 0.7969\n",
            "Epoch 6/25\n",
            "100/100 [==============================] - 38s 265ms/step - loss: 0.5310 - accuracy: 0.7867 - val_loss: 1.4878 - val_accuracy: 0.5365\n",
            "Epoch 7/25\n",
            "100/100 [==============================] - 30s 178ms/step - loss: 0.5853 - accuracy: 0.7845 - val_loss: 0.7781 - val_accuracy: 0.7344\n",
            "Epoch 8/25\n",
            "100/100 [==============================] - 38s 265ms/step - loss: 0.3669 - accuracy: 0.8658 - val_loss: 0.2987 - val_accuracy: 0.8880\n",
            "Epoch 9/25\n",
            "100/100 [==============================] - 29s 178ms/step - loss: 0.3377 - accuracy: 0.8797 - val_loss: 0.3594 - val_accuracy: 0.8724\n",
            "Epoch 10/25\n",
            "100/100 [==============================] - 38s 265ms/step - loss: 0.3045 - accuracy: 0.8900 - val_loss: 0.2561 - val_accuracy: 0.9036\n",
            "Epoch 11/25\n",
            "100/100 [==============================] - 38s 264ms/step - loss: 0.3255 - accuracy: 0.8752 - val_loss: 0.2253 - val_accuracy: 0.9323\n",
            "Epoch 12/25\n",
            "100/100 [==============================] - 30s 175ms/step - loss: 0.2244 - accuracy: 0.9253 - val_loss: 0.2477 - val_accuracy: 0.9036\n",
            "Epoch 13/25\n",
            "100/100 [==============================] - 38s 265ms/step - loss: 0.2260 - accuracy: 0.9269 - val_loss: 0.2504 - val_accuracy: 0.9106\n",
            "Epoch 14/25\n",
            "100/100 [==============================] - 29s 168ms/step - loss: 0.2143 - accuracy: 0.9266 - val_loss: 0.2147 - val_accuracy: 0.9323\n",
            "Epoch 15/25\n",
            "100/100 [==============================] - 31s 188ms/step - loss: 0.1703 - accuracy: 0.9392 - val_loss: 0.2695 - val_accuracy: 0.8854\n",
            "Epoch 16/25\n",
            "100/100 [==============================] - 30s 185ms/step - loss: 0.1936 - accuracy: 0.9342 - val_loss: 0.1016 - val_accuracy: 0.9661\n",
            "Epoch 17/25\n",
            "100/100 [==============================] - 31s 183ms/step - loss: 0.1546 - accuracy: 0.9477 - val_loss: 0.3986 - val_accuracy: 0.8568\n",
            "Epoch 18/25\n",
            "100/100 [==============================] - 39s 266ms/step - loss: 0.1863 - accuracy: 0.9351 - val_loss: 0.1340 - val_accuracy: 0.9531\n",
            "Epoch 19/25\n",
            "100/100 [==============================] - 39s 265ms/step - loss: 0.1520 - accuracy: 0.9486 - val_loss: 0.2702 - val_accuracy: 0.8984\n",
            "Epoch 20/25\n",
            "100/100 [==============================] - 38s 266ms/step - loss: 0.1419 - accuracy: 0.9524 - val_loss: 0.2107 - val_accuracy: 0.9297\n",
            "Epoch 21/25\n",
            "100/100 [==============================] - 30s 179ms/step - loss: 0.1490 - accuracy: 0.9531 - val_loss: 0.1625 - val_accuracy: 0.9531\n",
            "Epoch 22/25\n",
            "100/100 [==============================] - 29s 175ms/step - loss: 0.1586 - accuracy: 0.9468 - val_loss: 0.2104 - val_accuracy: 0.9358\n",
            "Epoch 23/25\n",
            "100/100 [==============================] - 29s 177ms/step - loss: 0.1245 - accuracy: 0.9566 - val_loss: 0.1263 - val_accuracy: 0.9557\n",
            "Epoch 24/25\n",
            "100/100 [==============================] - 38s 265ms/step - loss: 0.1339 - accuracy: 0.9527 - val_loss: 0.2512 - val_accuracy: 0.9115\n",
            "Epoch 25/25\n",
            "100/100 [==============================] - 38s 263ms/step - loss: 0.1441 - accuracy: 0.9509 - val_loss: 0.5732 - val_accuracy: 0.8333\n"
          ]
        }
      ],
      "source": [
        "\n",
        "history = model.fit(\n",
        "    train_ds,\n",
        "    epochs = EPOCHS,\n",
        "    batch_size = BATCH_SIZE,\n",
        "    verbose = 1,\n",
        "    validation_data = val_ds\n",
        ")"
      ]
    },
    {
      "cell_type": "code",
      "execution_count": null,
      "id": "d4dde74f",
      "metadata": {
        "id": "d4dde74f",
        "colab": {
          "base_uri": "https://localhost:8080/"
        },
        "outputId": "9a38704a-cf43-4003-f37f-7cf9fa1dc330"
      },
      "outputs": [
        {
          "output_type": "stream",
          "name": "stdout",
          "text": [
            "12/12 [==============================] - 13s 19ms/step - loss: 0.7159 - accuracy: 0.8229\n"
          ]
        }
      ],
      "source": [
        "scores = model.evaluate(test_ds)"
      ]
    },
    {
      "cell_type": "code",
      "execution_count": null,
      "id": "688840f6",
      "metadata": {
        "id": "688840f6",
        "colab": {
          "base_uri": "https://localhost:8080/",
          "height": 487
        },
        "outputId": "8422e69e-d00c-4391-c5c8-82698b2a3da7"
      },
      "outputs": [
        {
          "output_type": "stream",
          "name": "stdout",
          "text": [
            "Actual:  Die Back\n",
            "1/1 [==============================] - 0s 147ms/step\n",
            "Predicted:  Die Back\n"
          ]
        },
        {
          "output_type": "display_data",
          "data": {
            "text/plain": [
              "<Figure size 640x480 with 1 Axes>"
            ],
            "image/png": "[encoded data removed]"
          },
          "metadata": {}
        }
      ],
      "source": [
        "import numpy as np\n",
        "\n",
        "for images_batch ,labels_batch in test_ds.take(1):\n",
        "    first_image = images_batch[0].numpy().astype('uint8')\n",
        "    first_label = labels_batch[0]\n",
        "\n",
        "    plt.imshow(first_image)\n",
        "    print(\"Actual: \",classes[first_label])\n",
        "\n",
        "    batch_prediction = model.predict(images_batch)\n",
        "    print(\"Predicted: \",\n",
        "          classes[np.argmax(batch_prediction[0])])\n"
      ]
    },
    {
      "cell_type": "code",
      "execution_count": null,
      "id": "325391a1",
      "metadata": {
        "id": "325391a1"
      },
      "outputs": [],
      "source": [
        "\n",
        "model.save(\"my_model1.keras\")\n"
      ]
    }
  ],
  "metadata": {
    "kernelspec": {
      "display_name": "Python 3",
      "name": "python3"
    },
    "language_info": {
      "codemirror_mode": {
        "name": "ipython",
        "version": 3
      },
      "file_extension": ".py",
      "mimetype": "text/x-python",
      "name": "python",
      "nbconvert_exporter": "python",
      "pygments_lexer": "ipython3",
      "version": "3.10.4"
    },
    "colab": {
      "provenance": [],
      "gpuType": "T4",
      "include_colab_link": true
    },
    "accelerator": "GPU"
  },
  "nbformat": 4,
  "nbformat_minor": 5
}